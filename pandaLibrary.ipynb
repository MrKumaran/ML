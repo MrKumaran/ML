{
 "cells": [
  {
   "cell_type": "code",
   "id": "initial_id",
   "metadata": {
    "collapsed": true,
    "jupyter": {
     "outputs_hidden": true
    },
    "ExecuteTime": {
     "end_time": "2024-08-11T11:54:07.860146Z",
     "start_time": "2024-08-11T11:54:07.316735Z"
    }
   },
   "source": [
    "import pandas as pd"
   ],
   "outputs": [],
   "execution_count": 1
  },
  {
   "cell_type": "markdown",
   "id": "b13d2c389bb32a84",
   "metadata": {},
   "source": [
    "Importing pandas library. right now there is pandas ai available. it is great to do analysis on data but to integrate into ML i think pandas is great for now atleast."
   ]
  },
  {
   "cell_type": "code",
   "id": "8d5970a853ac4d05",
   "metadata": {},
   "source": "pd.DataFrame({'One': [1, 2, 3], 'Two': [4, 5, 6]}, index= ['A', 'B', 'C'])",
   "outputs": [],
   "execution_count": null
  },
  {
   "metadata": {},
   "cell_type": "markdown",
   "source": "Data Frame can have many column.ax ",
   "id": "6ba45b1c5cb0a70f"
  },
  {
   "cell_type": "code",
   "id": "58e31b95f0b699a8",
   "metadata": {},
   "source": "pd.Series([1, 2, 3, 4, 5], index= ['A', 'B', 'C', 'D', 'E'], name= 'Random')",
   "outputs": [],
   "execution_count": null
  },
  {
   "metadata": {},
   "cell_type": "markdown",
   "source": "Series is a single column data frame.",
   "id": "961c359ab5a36eb5"
  },
  {
   "metadata": {},
   "cell_type": "code",
   "source": "pd.read_csv('fruit.csv')",
   "id": "50cb3a9a4a6291a7",
   "outputs": [],
   "execution_count": null
  },
  {
   "metadata": {},
   "cell_type": "markdown",
   "source": "Reading a csv file",
   "id": "b86d163418d64891"
  },
  {
   "metadata": {
    "ExecuteTime": {
     "end_time": "2024-08-11T11:54:12.142710Z",
     "start_time": "2024-08-11T11:54:12.134159Z"
    }
   },
   "cell_type": "code",
   "source": "test_data = pd.read_csv('mobile_sales.csv')",
   "id": "651a700914b0d0b7",
   "outputs": [],
   "execution_count": 2
  },
  {
   "metadata": {},
   "cell_type": "markdown",
   "source": "Reading a csv file and storing it in a variable.",
   "id": "f41e3cf34c738a54"
  },
  {
   "metadata": {
    "ExecuteTime": {
     "end_time": "2024-08-11T11:54:16.170195Z",
     "start_time": "2024-08-11T11:54:16.163648Z"
    }
   },
   "cell_type": "code",
   "source": "test_data.columns",
   "id": "389ddd8a47837b1",
   "outputs": [
    {
     "data": {
      "text/plain": [
       "Index(['TransactionID', 'Date', 'MobileModel', 'Brand', 'Price', 'UnitsSold',\n",
       "       'TotalRevenue', 'CustomerAge', 'CustomerGender', 'Location',\n",
       "       'PaymentMethod'],\n",
       "      dtype='object')"
      ]
     },
     "execution_count": 3,
     "metadata": {},
     "output_type": "execute_result"
    }
   ],
   "execution_count": 3
  },
  {
   "metadata": {},
   "cell_type": "markdown",
   "source": "Shows the columns of the data frame.",
   "id": "4db2db60499c310d"
  },
  {
   "metadata": {},
   "cell_type": "code",
   "source": "test_data.shape",
   "id": "51b7c372b6fb4f0d",
   "outputs": [],
   "execution_count": null
  },
  {
   "metadata": {},
   "cell_type": "markdown",
   "source": "Shows the no. of rows and columns of the data frame.",
   "id": "5701e5b0b60b72eb"
  },
  {
   "metadata": {},
   "cell_type": "code",
   "source": "test_data.describe()",
   "id": "956c0186140eceaf",
   "outputs": [],
   "execution_count": null
  },
  {
   "metadata": {},
   "cell_type": "markdown",
   "source": "shows the brief description of the data frame.",
   "id": "88b516777f9e371d"
  },
  {
   "metadata": {},
   "cell_type": "code",
   "source": "test_data.info()",
   "id": "a64da92e05b384c0",
   "outputs": [],
   "execution_count": null
  },
  {
   "metadata": {},
   "cell_type": "markdown",
   "source": "show the type of data in the dataframe.",
   "id": "6c40cafaf569e534"
  },
  {
   "metadata": {},
   "cell_type": "markdown",
   "source": "",
   "id": "7389398022bc7105"
  },
  {
   "metadata": {},
   "cell_type": "code",
   "source": "test_data.notnull()",
   "id": "f87cdf91d1fe01ad",
   "outputs": [],
   "execution_count": null
  },
  {
   "metadata": {},
   "cell_type": "markdown",
   "source": "Shows the data which is not null -> Boolean values.",
   "id": "e090a016c09bdbad"
  },
  {
   "metadata": {},
   "cell_type": "code",
   "source": "test_data.loc[test_data.Brand.notnull()]",
   "id": "83880c77cbdd34ca",
   "outputs": [],
   "execution_count": null
  },
  {
   "metadata": {},
   "cell_type": "markdown",
   "source": "Shows the data which is not null.",
   "id": "cc59d17ea3edfe19"
  },
  {
   "metadata": {},
   "cell_type": "code",
   "source": "sum(test_data.Price)",
   "id": "5dda28c70ee45e74",
   "outputs": [],
   "execution_count": null
  },
  {
   "metadata": {},
   "cell_type": "code",
   "source": "sum(test_data.Price)/len(test_data.Price)",
   "id": "5752bf3ab68ebd0e",
   "outputs": [],
   "execution_count": null
  },
  {
   "metadata": {},
   "cell_type": "code",
   "source": "min(test_data.Brand)",
   "id": "c4a720d93a626b75",
   "outputs": [],
   "execution_count": null
  },
  {
   "metadata": {},
   "cell_type": "code",
   "source": "test_data.loc[test_data.Brand == 'Adams Group']",
   "id": "c48a252cd87ceeaa",
   "outputs": [],
   "execution_count": null
  },
  {
   "metadata": {},
   "cell_type": "markdown",
   "source": "Shows the data where Brand is 'Adams Group'",
   "id": "fa8647d717013600"
  },
  {
   "metadata": {
    "ExecuteTime": {
     "end_time": "2024-08-11T11:54:23.409101Z",
     "start_time": "2024-08-11T11:54:23.404586Z"
    }
   },
   "cell_type": "code",
   "source": "test_data.loc[0,\"Date\"]",
   "id": "fab500d9e826756e",
   "outputs": [
    {
     "data": {
      "text/plain": [
       "'2024-01-06'"
      ]
     },
     "execution_count": 4,
     "metadata": {},
     "output_type": "execute_result"
    }
   ],
   "execution_count": 4
  },
  {
   "metadata": {
    "ExecuteTime": {
     "end_time": "2024-08-11T11:54:27.072908Z",
     "start_time": "2024-08-11T11:54:27.064750Z"
    }
   },
   "cell_type": "code",
   "source": [
    "r = [2,3,6]\n",
    "c = [3, 4, 5]\n",
    "test_data.iloc[r, c]"
   ],
   "id": "35a922b539497881",
   "outputs": [
    {
     "data": {
      "text/plain": [
       "              Brand   Price  UnitsSold\n",
       "2  Sanchez-Williams  400.80         95\n",
       "3    Greer and Sons  338.60         79\n",
       "6      Coleman-Pena  975.77         63"
      ],
      "text/html": [
       "<div>\n",
       "<style scoped>\n",
       "    .dataframe tbody tr th:only-of-type {\n",
       "        vertical-align: middle;\n",
       "    }\n",
       "\n",
       "    .dataframe tbody tr th {\n",
       "        vertical-align: top;\n",
       "    }\n",
       "\n",
       "    .dataframe thead th {\n",
       "        text-align: right;\n",
       "    }\n",
       "</style>\n",
       "<table border=\"1\" class=\"dataframe\">\n",
       "  <thead>\n",
       "    <tr style=\"text-align: right;\">\n",
       "      <th></th>\n",
       "      <th>Brand</th>\n",
       "      <th>Price</th>\n",
       "      <th>UnitsSold</th>\n",
       "    </tr>\n",
       "  </thead>\n",
       "  <tbody>\n",
       "    <tr>\n",
       "      <th>2</th>\n",
       "      <td>Sanchez-Williams</td>\n",
       "      <td>400.80</td>\n",
       "      <td>95</td>\n",
       "    </tr>\n",
       "    <tr>\n",
       "      <th>3</th>\n",
       "      <td>Greer and Sons</td>\n",
       "      <td>338.60</td>\n",
       "      <td>79</td>\n",
       "    </tr>\n",
       "    <tr>\n",
       "      <th>6</th>\n",
       "      <td>Coleman-Pena</td>\n",
       "      <td>975.77</td>\n",
       "      <td>63</td>\n",
       "    </tr>\n",
       "  </tbody>\n",
       "</table>\n",
       "</div>"
      ]
     },
     "execution_count": 5,
     "metadata": {},
     "output_type": "execute_result"
    }
   ],
   "execution_count": 5
  },
  {
   "metadata": {},
   "cell_type": "code",
   "outputs": [],
   "execution_count": null,
   "source": "",
   "id": "c0ff774dcbca9cea"
  }
 ],
 "metadata": {
  "kernelspec": {
   "display_name": "Python 3 (ipykernel)",
   "language": "python",
   "name": "python3"
  },
  "language_info": {
   "codemirror_mode": {
    "name": "ipython",
    "version": 3
   },
   "file_extension": ".py",
   "mimetype": "text/x-python",
   "name": "python",
   "nbconvert_exporter": "python",
   "pygments_lexer": "ipython3",
   "version": "3.9.6"
  }
 },
 "nbformat": 4,
 "nbformat_minor": 5
}
