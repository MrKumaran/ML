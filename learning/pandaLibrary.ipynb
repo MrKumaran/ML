{
 "cells": [
  {
   "cell_type": "code",
   "id": "initial_id",
   "metadata": {
    "collapsed": true,
    "jupyter": {
     "outputs_hidden": true
    },
    "ExecuteTime": {
     "end_time": "2024-08-30T13:26:22.700763Z",
     "start_time": "2024-08-30T13:26:22.160191Z"
    }
   },
   "source": [
    "import pandas as pd"
   ],
   "outputs": [],
   "execution_count": 1
  },
  {
   "cell_type": "markdown",
   "id": "b13d2c389bb32a84",
   "metadata": {},
   "source": [
    "Importing pandas library. right now there is pandas ai available. it is great to do analysis on data but to integrate into ML i think pandas is great for now atleast."
   ]
  },
  {
   "cell_type": "code",
   "id": "8d5970a853ac4d05",
   "metadata": {},
   "source": "pd.DataFrame({'One': [1, 2, 3], 'Two': [4, 5, 6]}, index= ['A', 'B', 'C'])",
   "outputs": [],
   "execution_count": null
  },
  {
   "metadata": {},
   "cell_type": "markdown",
   "source": "Data Frame can have many column.ax ",
   "id": "6ba45b1c5cb0a70f"
  },
  {
   "cell_type": "code",
   "id": "58e31b95f0b699a8",
   "metadata": {},
   "source": "pd.Series([1, 2, 3, 4, 5], index= ['A', 'B', 'C', 'D', 'E'], name= 'Random')",
   "outputs": [],
   "execution_count": null
  },
  {
   "metadata": {},
   "cell_type": "markdown",
   "source": "Series is a single column data frame.",
   "id": "961c359ab5a36eb5"
  },
  {
   "metadata": {},
   "cell_type": "code",
   "source": "pd.read_csv('fruit.csv')",
   "id": "50cb3a9a4a6291a7",
   "outputs": [],
   "execution_count": null
  },
  {
   "metadata": {},
   "cell_type": "markdown",
   "source": "Reading a csv file",
   "id": "b86d163418d64891"
  },
  {
   "metadata": {
    "ExecuteTime": {
     "end_time": "2024-08-30T13:26:29.837739Z",
     "start_time": "2024-08-30T13:26:29.826613Z"
    }
   },
   "cell_type": "code",
   "source": "test_data = pd.read_csv('mobile_sales.csv')",
   "id": "651a700914b0d0b7",
   "outputs": [],
   "execution_count": 2
  },
  {
   "metadata": {},
   "cell_type": "markdown",
   "source": "Reading a csv file and storing it in a variable.",
   "id": "f41e3cf34c738a54"
  },
  {
   "metadata": {},
   "cell_type": "code",
   "source": "test_data.columns",
   "id": "389ddd8a47837b1",
   "outputs": [],
   "execution_count": null
  },
  {
   "metadata": {},
   "cell_type": "markdown",
   "source": "Shows the columns of the data frame.",
   "id": "4db2db60499c310d"
  },
  {
   "metadata": {},
   "cell_type": "code",
   "source": "test_data.shape",
   "id": "51b7c372b6fb4f0d",
   "outputs": [],
   "execution_count": null
  },
  {
   "metadata": {},
   "cell_type": "markdown",
   "source": "Shows the no. of rows and columns of the data frame.",
   "id": "5701e5b0b60b72eb"
  },
  {
   "metadata": {},
   "cell_type": "code",
   "source": "test_data.describe()",
   "id": "956c0186140eceaf",
   "outputs": [],
   "execution_count": null
  },
  {
   "metadata": {},
   "cell_type": "markdown",
   "source": "shows the brief description of the data frame.",
   "id": "88b516777f9e371d"
  },
  {
   "metadata": {},
   "cell_type": "code",
   "source": "test_data.info()",
   "id": "a64da92e05b384c0",
   "outputs": [],
   "execution_count": null
  },
  {
   "metadata": {},
   "cell_type": "markdown",
   "source": "show the type of data in the dataframe.",
   "id": "6c40cafaf569e534"
  },
  {
   "metadata": {},
   "cell_type": "markdown",
   "source": "",
   "id": "7389398022bc7105"
  },
  {
   "metadata": {},
   "cell_type": "code",
   "source": "test_data.notnull()",
   "id": "f87cdf91d1fe01ad",
   "outputs": [],
   "execution_count": null
  },
  {
   "metadata": {},
   "cell_type": "markdown",
   "source": "Shows the data which is not null -> Boolean values.",
   "id": "e090a016c09bdbad"
  },
  {
   "metadata": {},
   "cell_type": "code",
   "source": "test_data.loc[test_data.Brand.notnull()]",
   "id": "83880c77cbdd34ca",
   "outputs": [],
   "execution_count": null
  },
  {
   "metadata": {},
   "cell_type": "markdown",
   "source": "Shows the data which is not null.",
   "id": "cc59d17ea3edfe19"
  },
  {
   "metadata": {},
   "cell_type": "code",
   "source": "sum(test_data.Price)",
   "id": "5dda28c70ee45e74",
   "outputs": [],
   "execution_count": null
  },
  {
   "metadata": {},
   "cell_type": "code",
   "source": "sum(test_data.Price)/len(test_data.Price)",
   "id": "5752bf3ab68ebd0e",
   "outputs": [],
   "execution_count": null
  },
  {
   "metadata": {},
   "cell_type": "code",
   "source": "min(test_data.Brand)",
   "id": "c4a720d93a626b75",
   "outputs": [],
   "execution_count": null
  },
  {
   "metadata": {},
   "cell_type": "code",
   "source": "test_data.loc[test_data.Brand == 'Adams Group']",
   "id": "c48a252cd87ceeaa",
   "outputs": [],
   "execution_count": null
  },
  {
   "metadata": {},
   "cell_type": "markdown",
   "source": "Shows the data where Brand is 'Adams Group'",
   "id": "fa8647d717013600"
  },
  {
   "metadata": {},
   "cell_type": "code",
   "source": "test_data.loc[0,\"Date\"]",
   "id": "fab500d9e826756e",
   "outputs": [],
   "execution_count": null
  },
  {
   "metadata": {},
   "cell_type": "code",
   "source": [
    "r = [2,3,6]\n",
    "c = [3, 4, 5]\n",
    "test_data.iloc[r, c]"
   ],
   "id": "35a922b539497881",
   "outputs": [],
   "execution_count": null
  },
  {
   "metadata": {
    "ExecuteTime": {
     "end_time": "2024-08-11T16:03:21.456856Z",
     "start_time": "2024-08-11T16:03:21.453086Z"
    }
   },
   "cell_type": "code",
   "source": "l = test_data.Brand.unique()",
   "id": "c0ff774dcbca9cea",
   "outputs": [],
   "execution_count": 23
  },
  {
   "metadata": {
    "ExecuteTime": {
     "end_time": "2024-08-11T16:03:54.327923Z",
     "start_time": "2024-08-11T16:03:54.323286Z"
    }
   },
   "cell_type": "code",
   "source": "len(l)",
   "id": "b9bd694d07a89d5c",
   "outputs": [
    {
     "data": {
      "text/plain": [
       "980"
      ]
     },
     "execution_count": 25,
     "metadata": {},
     "output_type": "execute_result"
    }
   ],
   "execution_count": 25
  },
  {
   "metadata": {
    "ExecuteTime": {
     "end_time": "2024-08-11T16:07:16.111187Z",
     "start_time": "2024-08-11T16:07:16.107545Z"
    }
   },
   "cell_type": "code",
   "source": "li = test_data.Brand.value_counts()",
   "id": "2d5839a348105a26",
   "outputs": [],
   "execution_count": 27
  },
  {
   "metadata": {
    "ExecuteTime": {
     "end_time": "2024-08-11T16:07:26.004839Z",
     "start_time": "2024-08-11T16:07:26.001169Z"
    }
   },
   "cell_type": "code",
   "source": "type(li)",
   "id": "e4bc3b28f669e8c6",
   "outputs": [
    {
     "data": {
      "text/plain": [
       "pandas.core.series.Series"
      ]
     },
     "execution_count": 28,
     "metadata": {},
     "output_type": "execute_result"
    }
   ],
   "execution_count": 28
  },
  {
   "metadata": {
    "ExecuteTime": {
     "end_time": "2024-08-11T16:07:33.279144Z",
     "start_time": "2024-08-11T16:07:33.275881Z"
    }
   },
   "cell_type": "code",
   "source": "li",
   "id": "16c5a90d21cfee79",
   "outputs": [
    {
     "data": {
      "text/plain": [
       "Brand\n",
       "Martinez Ltd                   3\n",
       "Sanchez PLC                    3\n",
       "Ramos and Sons                 2\n",
       "Williams Group                 2\n",
       "Miller and Sons                2\n",
       "                              ..\n",
       "Jackson, Collier and Barber    1\n",
       "Perez and Sons                 1\n",
       "Ayers and Sons                 1\n",
       "Holland PLC                    1\n",
       "Kim, Maxwell and Moore         1\n",
       "Name: count, Length: 980, dtype: int64"
      ]
     },
     "execution_count": 29,
     "metadata": {},
     "output_type": "execute_result"
    }
   ],
   "execution_count": 29
  },
  {
   "metadata": {
    "ExecuteTime": {
     "end_time": "2024-08-30T13:27:16.820208Z",
     "start_time": "2024-08-30T13:27:16.814849Z"
    }
   },
   "cell_type": "code",
   "source": "test_data.columns",
   "id": "4effbb122e8dc1b2",
   "outputs": [
    {
     "data": {
      "text/plain": [
       "Index(['TransactionID', 'Date', 'MobileModel', 'Brand', 'Price', 'UnitsSold',\n",
       "       'TotalRevenue', 'CustomerAge', 'CustomerGender', 'Location',\n",
       "       'PaymentMethod'],\n",
       "      dtype='object')"
      ]
     },
     "execution_count": 3,
     "metadata": {},
     "output_type": "execute_result"
    }
   ],
   "execution_count": 3
  },
  {
   "metadata": {
    "ExecuteTime": {
     "end_time": "2024-08-30T13:27:57.460344Z",
     "start_time": "2024-08-30T13:27:57.454647Z"
    }
   },
   "cell_type": "code",
   "source": "test_data.Date.describe()",
   "id": "63084ec89987fdde",
   "outputs": [
    {
     "data": {
      "text/plain": [
       "count           1000\n",
       "unique           205\n",
       "top       2024-01-27\n",
       "freq              11\n",
       "Name: Date, dtype: object"
      ]
     },
     "execution_count": 5,
     "metadata": {},
     "output_type": "execute_result"
    }
   ],
   "execution_count": 5
  },
  {
   "metadata": {
    "ExecuteTime": {
     "end_time": "2024-08-30T13:29:02.563923Z",
     "start_time": "2024-08-30T13:29:02.560748Z"
    }
   },
   "cell_type": "code",
   "source": "test_data.CustomerAge.mean()",
   "id": "1ccc535088dc488c",
   "outputs": [
    {
     "data": {
      "text/plain": [
       "np.float64(41.141)"
      ]
     },
     "execution_count": 6,
     "metadata": {},
     "output_type": "execute_result"
    }
   ],
   "execution_count": 6
  },
  {
   "metadata": {
    "ExecuteTime": {
     "end_time": "2024-08-30T14:17:58.784645Z",
     "start_time": "2024-08-30T14:17:58.778537Z"
    }
   },
   "cell_type": "code",
   "source": "test_data.Brand.value_counts()",
   "id": "53ccb0605ddad666",
   "outputs": [
    {
     "data": {
      "text/plain": [
       "Brand\n",
       "Martinez Ltd                   3\n",
       "Sanchez PLC                    3\n",
       "Ramos and Sons                 2\n",
       "Williams Group                 2\n",
       "Miller and Sons                2\n",
       "                              ..\n",
       "Jackson, Collier and Barber    1\n",
       "Perez and Sons                 1\n",
       "Ayers and Sons                 1\n",
       "Holland PLC                    1\n",
       "Kim, Maxwell and Moore         1\n",
       "Name: count, Length: 980, dtype: int64"
      ]
     },
     "execution_count": 7,
     "metadata": {},
     "output_type": "execute_result"
    }
   ],
   "execution_count": 7
  },
  {
   "metadata": {},
   "cell_type": "code",
   "outputs": [],
   "execution_count": null,
   "source": "test_data.ratio = test_data.Price/test_data.Quantity",
   "id": "5a984c14b770b659"
  }
 ],
 "metadata": {
  "kernelspec": {
   "display_name": "Python 3 (ipykernel)",
   "language": "python",
   "name": "python3"
  },
  "language_info": {
   "codemirror_mode": {
    "name": "ipython",
    "version": 3
   },
   "file_extension": ".py",
   "mimetype": "text/x-python",
   "name": "python",
   "nbconvert_exporter": "python",
   "pygments_lexer": "ipython3",
   "version": "3.9.6"
  }
 },
 "nbformat": 4,
 "nbformat_minor": 5
}
