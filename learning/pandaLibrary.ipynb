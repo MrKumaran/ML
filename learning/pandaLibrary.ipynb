{
 "cells": [
  {
   "cell_type": "code",
   "id": "initial_id",
   "metadata": {
    "collapsed": true,
    "jupyter": {
     "outputs_hidden": true
    },
    "ExecuteTime": {
     "end_time": "2024-08-21T08:53:57.927323Z",
     "start_time": "2024-08-21T08:53:56.758503Z"
    }
   },
   "source": [
    "import pandas as pd"
   ],
   "outputs": [],
   "execution_count": 1
  },
  {
   "cell_type": "markdown",
   "id": "b13d2c389bb32a84",
   "metadata": {},
   "source": [
    "Importing pandas library. right now there is pandas ai available. it is great to do analysis on data but to integrate into ML i think pandas is great for now atleast."
   ]
  },
  {
   "cell_type": "code",
   "id": "8d5970a853ac4d05",
   "metadata": {},
   "source": "pd.DataFrame({'One': [1, 2, 3], 'Two': [4, 5, 6]}, index= ['A', 'B', 'C'])",
   "outputs": [],
   "execution_count": null
  },
  {
   "metadata": {},
   "cell_type": "markdown",
   "source": "Data Frame can have many column.ax ",
   "id": "6ba45b1c5cb0a70f"
  },
  {
   "cell_type": "code",
   "id": "58e31b95f0b699a8",
   "metadata": {},
   "source": "pd.Series([1, 2, 3, 4, 5], index= ['A', 'B', 'C', 'D', 'E'], name= 'Random')",
   "outputs": [],
   "execution_count": null
  },
  {
   "metadata": {},
   "cell_type": "markdown",
   "source": "Series is a single column data frame.",
   "id": "961c359ab5a36eb5"
  },
  {
   "metadata": {},
   "cell_type": "code",
   "source": "pd.read_csv('fruit.csv')",
   "id": "50cb3a9a4a6291a7",
   "outputs": [],
   "execution_count": null
  },
  {
   "metadata": {},
   "cell_type": "markdown",
   "source": "Reading a csv file",
   "id": "b86d163418d64891"
  },
  {
   "metadata": {
    "ExecuteTime": {
     "end_time": "2024-08-11T16:02:21.995495Z",
     "start_time": "2024-08-11T16:02:21.988068Z"
    }
   },
   "cell_type": "code",
   "source": "test_data = pd.read_csv('mobile_sales.csv')",
   "id": "651a700914b0d0b7",
   "outputs": [],
   "execution_count": 21
  },
  {
   "metadata": {},
   "cell_type": "markdown",
   "source": "Reading a csv file and storing it in a variable.",
   "id": "f41e3cf34c738a54"
  },
  {
   "metadata": {},
   "cell_type": "code",
   "source": "test_data.columns",
   "id": "389ddd8a47837b1",
   "outputs": [],
   "execution_count": null
  },
  {
   "metadata": {},
   "cell_type": "markdown",
   "source": "Shows the columns of the data frame.",
   "id": "4db2db60499c310d"
  },
  {
   "metadata": {},
   "cell_type": "code",
   "source": "test_data.shape",
   "id": "51b7c372b6fb4f0d",
   "outputs": [],
   "execution_count": null
  },
  {
   "metadata": {},
   "cell_type": "markdown",
   "source": "Shows the no. of rows and columns of the data frame.",
   "id": "5701e5b0b60b72eb"
  },
  {
   "metadata": {},
   "cell_type": "code",
   "source": "test_data.describe()",
   "id": "956c0186140eceaf",
   "outputs": [],
   "execution_count": null
  },
  {
   "metadata": {},
   "cell_type": "markdown",
   "source": "shows the brief description of the data frame.",
   "id": "88b516777f9e371d"
  },
  {
   "metadata": {},
   "cell_type": "code",
   "source": "test_data.info()",
   "id": "a64da92e05b384c0",
   "outputs": [],
   "execution_count": null
  },
  {
   "metadata": {},
   "cell_type": "markdown",
   "source": "show the type of data in the dataframe.",
   "id": "6c40cafaf569e534"
  },
  {
   "metadata": {},
   "cell_type": "markdown",
   "source": "",
   "id": "7389398022bc7105"
  },
  {
   "metadata": {},
   "cell_type": "code",
   "source": "test_data.notnull()",
   "id": "f87cdf91d1fe01ad",
   "outputs": [],
   "execution_count": null
  },
  {
   "metadata": {},
   "cell_type": "markdown",
   "source": "Shows the data which is not null -> Boolean values.",
   "id": "e090a016c09bdbad"
  },
  {
   "metadata": {},
   "cell_type": "code",
   "source": "test_data.loc[test_data.Brand.notnull()]",
   "id": "83880c77cbdd34ca",
   "outputs": [],
   "execution_count": null
  },
  {
   "metadata": {},
   "cell_type": "markdown",
   "source": "Shows the data which is not null.",
   "id": "cc59d17ea3edfe19"
  },
  {
   "metadata": {},
   "cell_type": "code",
   "source": "sum(test_data.Price)",
   "id": "5dda28c70ee45e74",
   "outputs": [],
   "execution_count": null
  },
  {
   "metadata": {},
   "cell_type": "code",
   "source": "sum(test_data.Price)/len(test_data.Price)",
   "id": "5752bf3ab68ebd0e",
   "outputs": [],
   "execution_count": null
  },
  {
   "metadata": {},
   "cell_type": "code",
   "source": "min(test_data.Brand)",
   "id": "c4a720d93a626b75",
   "outputs": [],
   "execution_count": null
  },
  {
   "metadata": {},
   "cell_type": "code",
   "source": "test_data.loc[test_data.Brand == 'Adams Group']",
   "id": "c48a252cd87ceeaa",
   "outputs": [],
   "execution_count": null
  },
  {
   "metadata": {},
   "cell_type": "markdown",
   "source": "Shows the data where Brand is 'Adams Group'",
   "id": "fa8647d717013600"
  },
  {
   "metadata": {},
   "cell_type": "code",
   "source": "test_data.loc[0,\"Date\"]",
   "id": "fab500d9e826756e",
   "outputs": [],
   "execution_count": null
  },
  {
   "metadata": {},
   "cell_type": "code",
   "source": [
    "r = [2,3,6]\n",
    "c = [3, 4, 5]\n",
    "test_data.iloc[r, c]"
   ],
   "id": "35a922b539497881",
   "outputs": [],
   "execution_count": null
  },
  {
   "metadata": {
    "ExecuteTime": {
     "end_time": "2024-08-11T16:03:21.456856Z",
     "start_time": "2024-08-11T16:03:21.453086Z"
    }
   },
   "cell_type": "code",
   "source": "l = test_data.Brand.unique()",
   "id": "c0ff774dcbca9cea",
   "outputs": [],
   "execution_count": 23
  },
  {
   "metadata": {
    "ExecuteTime": {
     "end_time": "2024-08-11T16:03:54.327923Z",
     "start_time": "2024-08-11T16:03:54.323286Z"
    }
   },
   "cell_type": "code",
   "source": "len(l)",
   "id": "b9bd694d07a89d5c",
   "outputs": [
    {
     "data": {
      "text/plain": [
       "980"
      ]
     },
     "execution_count": 25,
     "metadata": {},
     "output_type": "execute_result"
    }
   ],
   "execution_count": 25
  },
  {
   "metadata": {
    "ExecuteTime": {
     "end_time": "2024-08-11T16:07:16.111187Z",
     "start_time": "2024-08-11T16:07:16.107545Z"
    }
   },
   "cell_type": "code",
   "source": "li = test_data.Brand.value_counts()",
   "id": "2d5839a348105a26",
   "outputs": [],
   "execution_count": 27
  },
  {
   "metadata": {
    "ExecuteTime": {
     "end_time": "2024-08-11T16:07:26.004839Z",
     "start_time": "2024-08-11T16:07:26.001169Z"
    }
   },
   "cell_type": "code",
   "source": "type(li)",
   "id": "e4bc3b28f669e8c6",
   "outputs": [
    {
     "data": {
      "text/plain": [
       "pandas.core.series.Series"
      ]
     },
     "execution_count": 28,
     "metadata": {},
     "output_type": "execute_result"
    }
   ],
   "execution_count": 28
  },
  {
   "metadata": {
    "ExecuteTime": {
     "end_time": "2024-08-11T16:07:33.279144Z",
     "start_time": "2024-08-11T16:07:33.275881Z"
    }
   },
   "cell_type": "code",
   "source": "li",
   "id": "16c5a90d21cfee79",
   "outputs": [
    {
     "data": {
      "text/plain": [
       "Brand\n",
       "Martinez Ltd                   3\n",
       "Sanchez PLC                    3\n",
       "Ramos and Sons                 2\n",
       "Williams Group                 2\n",
       "Miller and Sons                2\n",
       "                              ..\n",
       "Jackson, Collier and Barber    1\n",
       "Perez and Sons                 1\n",
       "Ayers and Sons                 1\n",
       "Holland PLC                    1\n",
       "Kim, Maxwell and Moore         1\n",
       "Name: count, Length: 980, dtype: int64"
      ]
     },
     "execution_count": 29,
     "metadata": {},
     "output_type": "execute_result"
    }
   ],
   "execution_count": 29
  },
  {
   "metadata": {
    "ExecuteTime": {
     "end_time": "2024-08-11T16:07:51.159639Z",
     "start_time": "2024-08-11T16:07:51.128748Z"
    }
   },
   "cell_type": "code",
   "source": "",
   "id": "a578121697e9187c",
   "outputs": [
    {
     "ename": "AttributeError",
     "evalue": "'Series' object has no attribute 'columns'",
     "output_type": "error",
     "traceback": [
      "\u001B[0;31m---------------------------------------------------------------------------\u001B[0m",
      "\u001B[0;31mAttributeError\u001B[0m                            Traceback (most recent call last)",
      "\u001B[0;32m/var/folders/sy/f2704z7d3vvblr_47mhcznfm0000gn/T/ipykernel_7628/485270917.py\u001B[0m in \u001B[0;36m?\u001B[0;34m()\u001B[0m\n\u001B[0;32m----> 1\u001B[0;31m \u001B[0mli\u001B[0m\u001B[0;34m.\u001B[0m\u001B[0mcolumns\u001B[0m\u001B[0;34m\u001B[0m\u001B[0;34m\u001B[0m\u001B[0m\n\u001B[0m",
      "\u001B[0;32m~/Developer/ML/.venv/lib/python3.9/site-packages/pandas/core/generic.py\u001B[0m in \u001B[0;36m?\u001B[0;34m(self, name)\u001B[0m\n\u001B[1;32m   6295\u001B[0m             \u001B[0;32mand\u001B[0m \u001B[0mname\u001B[0m \u001B[0;32mnot\u001B[0m \u001B[0;32min\u001B[0m \u001B[0mself\u001B[0m\u001B[0;34m.\u001B[0m\u001B[0m_accessors\u001B[0m\u001B[0;34m\u001B[0m\u001B[0;34m\u001B[0m\u001B[0m\n\u001B[1;32m   6296\u001B[0m             \u001B[0;32mand\u001B[0m \u001B[0mself\u001B[0m\u001B[0;34m.\u001B[0m\u001B[0m_info_axis\u001B[0m\u001B[0;34m.\u001B[0m\u001B[0m_can_hold_identifiers_and_holds_name\u001B[0m\u001B[0;34m(\u001B[0m\u001B[0mname\u001B[0m\u001B[0;34m)\u001B[0m\u001B[0;34m\u001B[0m\u001B[0;34m\u001B[0m\u001B[0m\n\u001B[1;32m   6297\u001B[0m         ):\n\u001B[1;32m   6298\u001B[0m             \u001B[0;32mreturn\u001B[0m \u001B[0mself\u001B[0m\u001B[0;34m[\u001B[0m\u001B[0mname\u001B[0m\u001B[0;34m]\u001B[0m\u001B[0;34m\u001B[0m\u001B[0;34m\u001B[0m\u001B[0m\n\u001B[0;32m-> 6299\u001B[0;31m         \u001B[0;32mreturn\u001B[0m \u001B[0mobject\u001B[0m\u001B[0;34m.\u001B[0m\u001B[0m__getattribute__\u001B[0m\u001B[0;34m(\u001B[0m\u001B[0mself\u001B[0m\u001B[0;34m,\u001B[0m \u001B[0mname\u001B[0m\u001B[0;34m)\u001B[0m\u001B[0;34m\u001B[0m\u001B[0;34m\u001B[0m\u001B[0m\n\u001B[0m",
      "\u001B[0;31mAttributeError\u001B[0m: 'Series' object has no attribute 'columns'"
     ]
    }
   ],
   "execution_count": 30
  },
  {
   "metadata": {},
   "cell_type": "code",
   "outputs": [],
   "execution_count": null,
   "source": "",
   "id": "4effbb122e8dc1b2"
  }
 ],
 "metadata": {
  "kernelspec": {
   "display_name": "Python 3 (ipykernel)",
   "language": "python",
   "name": "python3"
  },
  "language_info": {
   "codemirror_mode": {
    "name": "ipython",
    "version": 3
   },
   "file_extension": ".py",
   "mimetype": "text/x-python",
   "name": "python",
   "nbconvert_exporter": "python",
   "pygments_lexer": "ipython3",
   "version": "3.9.6"
  }
 },
 "nbformat": 4,
 "nbformat_minor": 5
}
