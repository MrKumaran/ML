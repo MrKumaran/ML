{
 "cells": [
  {
   "cell_type": "code",
   "id": "initial_id",
   "metadata": {
    "collapsed": true,
    "ExecuteTime": {
     "end_time": "2024-08-29T10:02:53.844607Z",
     "start_time": "2024-08-29T10:02:53.816431Z"
    }
   },
   "source": [
    "import pandas as pd\n",
    "data = pd.read_csv('train.csv')"
   ],
   "outputs": [],
   "execution_count": 42
  },
  {
   "metadata": {
    "ExecuteTime": {
     "end_time": "2024-08-29T10:02:53.881480Z",
     "start_time": "2024-08-29T10:02:53.871705Z"
    }
   },
   "cell_type": "code",
   "source": [
    "import torch\n",
    "import torch.nn as nn\n",
    "import torch.optim as optim\n",
    "import torch.utils.data as datum\n",
    "from sklearn.model_selection import train_test_split\n",
    "from sklearn.preprocessing import StandardScaler\n",
    "import pandas as pd\n",
    "import numpy as np"
   ],
   "id": "5c374212d5c3c457",
   "outputs": [],
   "execution_count": 43
  },
  {
   "metadata": {
    "ExecuteTime": {
     "end_time": "2024-08-29T10:02:54.302786Z",
     "start_time": "2024-08-29T10:02:54.061827Z"
    }
   },
   "cell_type": "code",
   "source": "data.head()",
   "id": "d1a502ff471c40ac",
   "outputs": [
    {
     "data": {
      "text/plain": [
       "   Unnamed: 0        DATE  LATITUDE_A  LONGITUDE_A  ELEVATION_A  PRCP_A  \\\n",
       "0           0  01-11-1979       63.88        77.52          128     NaN   \n",
       "1           1  13-11-1979       63.88        77.52          128     NaN   \n",
       "2           2  05-02-1980       63.88        77.52          128     NaN   \n",
       "3           3  23-12-1979       63.88        77.52          128     0.0   \n",
       "4           4  07-06-1977       63.88        77.52          128     NaN   \n",
       "\n",
       "   SNWD_A  TMAX_A  TMIN_A  TAVG_A  ...  LONGITUDE_C  ELEVATION_C  PRCP_C  \\\n",
       "0     0.0    17.6     NaN   12.96  ...        78.93           64     0.0   \n",
       "1     0.0     8.8     NaN    0.00  ...        78.93           64     0.0   \n",
       "2     0.0    -9.9     NaN  -17.76  ...        78.93           64     0.0   \n",
       "3     0.0     NaN   -4.30   -4.44  ...        78.93           64     0.0   \n",
       "4     0.0    39.6   15.48     NaN  ...        78.93           64     NaN   \n",
       "\n",
       "   SNWD_C  TMAX_C  TMIN_C  TAVG_C  LATITUDE  LONGITUDE  TAVG  \n",
       "0    0.00    18.7     NaN     NaN    63.933     78.733   9.3  \n",
       "1    0.00    11.0    -3.8    2.04    63.933     78.733   2.7  \n",
       "2    0.00     NaN     NaN  -16.56    63.933     78.733 -16.0  \n",
       "3    0.00     0.0     NaN   -2.64    63.933     78.733  -3.2  \n",
       "4    3.82    38.5    17.1   33.00    63.933     78.733  27.3  \n",
       "\n",
       "[5 rows x 29 columns]"
      ],
      "text/html": [
       "<div>\n",
       "<style scoped>\n",
       "    .dataframe tbody tr th:only-of-type {\n",
       "        vertical-align: middle;\n",
       "    }\n",
       "\n",
       "    .dataframe tbody tr th {\n",
       "        vertical-align: top;\n",
       "    }\n",
       "\n",
       "    .dataframe thead th {\n",
       "        text-align: right;\n",
       "    }\n",
       "</style>\n",
       "<table border=\"1\" class=\"dataframe\">\n",
       "  <thead>\n",
       "    <tr style=\"text-align: right;\">\n",
       "      <th></th>\n",
       "      <th>Unnamed: 0</th>\n",
       "      <th>DATE</th>\n",
       "      <th>LATITUDE_A</th>\n",
       "      <th>LONGITUDE_A</th>\n",
       "      <th>ELEVATION_A</th>\n",
       "      <th>PRCP_A</th>\n",
       "      <th>SNWD_A</th>\n",
       "      <th>TMAX_A</th>\n",
       "      <th>TMIN_A</th>\n",
       "      <th>TAVG_A</th>\n",
       "      <th>...</th>\n",
       "      <th>LONGITUDE_C</th>\n",
       "      <th>ELEVATION_C</th>\n",
       "      <th>PRCP_C</th>\n",
       "      <th>SNWD_C</th>\n",
       "      <th>TMAX_C</th>\n",
       "      <th>TMIN_C</th>\n",
       "      <th>TAVG_C</th>\n",
       "      <th>LATITUDE</th>\n",
       "      <th>LONGITUDE</th>\n",
       "      <th>TAVG</th>\n",
       "    </tr>\n",
       "  </thead>\n",
       "  <tbody>\n",
       "    <tr>\n",
       "      <th>0</th>\n",
       "      <td>0</td>\n",
       "      <td>01-11-1979</td>\n",
       "      <td>63.88</td>\n",
       "      <td>77.52</td>\n",
       "      <td>128</td>\n",
       "      <td>NaN</td>\n",
       "      <td>0.0</td>\n",
       "      <td>17.6</td>\n",
       "      <td>NaN</td>\n",
       "      <td>12.96</td>\n",
       "      <td>...</td>\n",
       "      <td>78.93</td>\n",
       "      <td>64</td>\n",
       "      <td>0.0</td>\n",
       "      <td>0.00</td>\n",
       "      <td>18.7</td>\n",
       "      <td>NaN</td>\n",
       "      <td>NaN</td>\n",
       "      <td>63.933</td>\n",
       "      <td>78.733</td>\n",
       "      <td>9.3</td>\n",
       "    </tr>\n",
       "    <tr>\n",
       "      <th>1</th>\n",
       "      <td>1</td>\n",
       "      <td>13-11-1979</td>\n",
       "      <td>63.88</td>\n",
       "      <td>77.52</td>\n",
       "      <td>128</td>\n",
       "      <td>NaN</td>\n",
       "      <td>0.0</td>\n",
       "      <td>8.8</td>\n",
       "      <td>NaN</td>\n",
       "      <td>0.00</td>\n",
       "      <td>...</td>\n",
       "      <td>78.93</td>\n",
       "      <td>64</td>\n",
       "      <td>0.0</td>\n",
       "      <td>0.00</td>\n",
       "      <td>11.0</td>\n",
       "      <td>-3.8</td>\n",
       "      <td>2.04</td>\n",
       "      <td>63.933</td>\n",
       "      <td>78.733</td>\n",
       "      <td>2.7</td>\n",
       "    </tr>\n",
       "    <tr>\n",
       "      <th>2</th>\n",
       "      <td>2</td>\n",
       "      <td>05-02-1980</td>\n",
       "      <td>63.88</td>\n",
       "      <td>77.52</td>\n",
       "      <td>128</td>\n",
       "      <td>NaN</td>\n",
       "      <td>0.0</td>\n",
       "      <td>-9.9</td>\n",
       "      <td>NaN</td>\n",
       "      <td>-17.76</td>\n",
       "      <td>...</td>\n",
       "      <td>78.93</td>\n",
       "      <td>64</td>\n",
       "      <td>0.0</td>\n",
       "      <td>0.00</td>\n",
       "      <td>NaN</td>\n",
       "      <td>NaN</td>\n",
       "      <td>-16.56</td>\n",
       "      <td>63.933</td>\n",
       "      <td>78.733</td>\n",
       "      <td>-16.0</td>\n",
       "    </tr>\n",
       "    <tr>\n",
       "      <th>3</th>\n",
       "      <td>3</td>\n",
       "      <td>23-12-1979</td>\n",
       "      <td>63.88</td>\n",
       "      <td>77.52</td>\n",
       "      <td>128</td>\n",
       "      <td>0.0</td>\n",
       "      <td>0.0</td>\n",
       "      <td>NaN</td>\n",
       "      <td>-4.30</td>\n",
       "      <td>-4.44</td>\n",
       "      <td>...</td>\n",
       "      <td>78.93</td>\n",
       "      <td>64</td>\n",
       "      <td>0.0</td>\n",
       "      <td>0.00</td>\n",
       "      <td>0.0</td>\n",
       "      <td>NaN</td>\n",
       "      <td>-2.64</td>\n",
       "      <td>63.933</td>\n",
       "      <td>78.733</td>\n",
       "      <td>-3.2</td>\n",
       "    </tr>\n",
       "    <tr>\n",
       "      <th>4</th>\n",
       "      <td>4</td>\n",
       "      <td>07-06-1977</td>\n",
       "      <td>63.88</td>\n",
       "      <td>77.52</td>\n",
       "      <td>128</td>\n",
       "      <td>NaN</td>\n",
       "      <td>0.0</td>\n",
       "      <td>39.6</td>\n",
       "      <td>15.48</td>\n",
       "      <td>NaN</td>\n",
       "      <td>...</td>\n",
       "      <td>78.93</td>\n",
       "      <td>64</td>\n",
       "      <td>NaN</td>\n",
       "      <td>3.82</td>\n",
       "      <td>38.5</td>\n",
       "      <td>17.1</td>\n",
       "      <td>33.00</td>\n",
       "      <td>63.933</td>\n",
       "      <td>78.733</td>\n",
       "      <td>27.3</td>\n",
       "    </tr>\n",
       "  </tbody>\n",
       "</table>\n",
       "<p>5 rows × 29 columns</p>\n",
       "</div>"
      ]
     },
     "execution_count": 44,
     "metadata": {},
     "output_type": "execute_result"
    }
   ],
   "execution_count": 44
  },
  {
   "metadata": {
    "ExecuteTime": {
     "end_time": "2024-08-29T10:02:57.221597Z",
     "start_time": "2024-08-29T10:02:56.037111Z"
    }
   },
   "cell_type": "code",
   "source": [
    "cty = {'A': {'TMAX': 0, 'TMIN': 0, 'TAVG': 0, 'PRCP': 0, 'SNWD': 0},\n",
    "       'B': {'TMAX': 0, 'TMIN': 0, 'TAVG': 0, 'PRCP': 0, 'SNWD': 0},\n",
    "       'C': {'TMAX': 0, 'TMIN': 0, 'TAVG': 0, 'PRCP': 0, 'SNWD': 0}}\n",
    "# cty = {'A': 0, 'B': 0, 'C': 0}\n",
    "# fld = {'TMAX': 0, 'TMIN': 0, 'TAVG': 0, 'PRCP': 0, 'SNWD': 0}\n",
    "# cty = {i: fld for i, x in cty.items()}\n",
    "# print(cty)\n",
    "for x, dat in enumerate(data.itertuples()):\n",
    "    for key, val in cty.items():\n",
    "        for ind, tvl in val.items():\n",
    "            rem = list(val.keys())\n",
    "            rem.remove(ind)\n",
    "            if pd.isna(getattr(dat, f'{ind}_{key}')):\n",
    "                v1, v2 = getattr(dat, f'{rem[0]}_{key}'), getattr(dat, f'{rem[1]}_{key}')\n",
    "                if not pd.isna(v1) and not pd.isna(v2) and ind != 'PRCP' and ind != 'SNWD':\n",
    "                    data.loc[x, f'{ind}_{key}'] = ((2 * v2) - v1) if ind in ['TMAX', 'TMIN'] else ((v1 + v2) / 2)\n",
    "                    cty[key][ind] += 1\n",
    "                else:\n",
    "                    rec = list(cty.keys())\n",
    "                    rec.remove(key)\n",
    "                    for ciy in rec:\n",
    "                        if not pd.isna(getattr(dat, f'{ind}_{ciy}')):\n",
    "                            data.loc[x, f'{ind}_{key}'] = float(getattr(dat, f'{ind}_{ciy}'))\n",
    "                            cty[key][ind] += 1\n",
    "                            break\n",
    "        #%%\n",
    "print(cty)"
   ],
   "id": "ed113014c4c80f0b",
   "outputs": [
    {
     "name": "stdout",
     "output_type": "stream",
     "text": [
      "{'A': {'TMAX': 245, 'TMIN': 523, 'TAVG': 70, 'PRCP': 561, 'SNWD': 0}, 'B': {'TMAX': 0, 'TMIN': 0, 'TAVG': 70, 'PRCP': 0, 'SNWD': 0}, 'C': {'TMAX': 239, 'TMIN': 471, 'TAVG': 129, 'PRCP': 207, 'SNWD': 0}}\n"
     ]
    }
   ],
   "execution_count": 45
  },
  {
   "metadata": {
    "ExecuteTime": {
     "end_time": "2024-08-29T10:02:57.299514Z",
     "start_time": "2024-08-29T10:02:57.285362Z"
    }
   },
   "cell_type": "code",
   "source": "data.isnull().sum()\n",
   "id": "2e3639c272ba5cd4",
   "outputs": [
    {
     "data": {
      "text/plain": [
       "Unnamed: 0     0\n",
       "DATE           0\n",
       "LATITUDE_A     0\n",
       "LONGITUDE_A    0\n",
       "ELEVATION_A    0\n",
       "PRCP_A         0\n",
       "SNWD_A         0\n",
       "TMAX_A         0\n",
       "TMIN_A         0\n",
       "TAVG_A         0\n",
       "LATITUDE_B     0\n",
       "LONGITUDE_B    0\n",
       "ELEVATION_B    0\n",
       "PRCP_B         0\n",
       "SNWD_B         0\n",
       "TMAX_B         0\n",
       "TMIN_B         0\n",
       "TAVG_B         0\n",
       "LATITUDE_C     0\n",
       "LONGITUDE_C    0\n",
       "ELEVATION_C    0\n",
       "PRCP_C         0\n",
       "SNWD_C         0\n",
       "TMAX_C         0\n",
       "TMIN_C         0\n",
       "TAVG_C         0\n",
       "LATITUDE       0\n",
       "LONGITUDE      0\n",
       "TAVG           0\n",
       "dtype: int64"
      ]
     },
     "execution_count": 46,
     "metadata": {},
     "output_type": "execute_result"
    }
   ],
   "execution_count": 46
  },
  {
   "metadata": {
    "ExecuteTime": {
     "end_time": "2024-08-29T10:02:57.700857Z",
     "start_time": "2024-08-29T10:02:57.636649Z"
    }
   },
   "cell_type": "code",
   "source": [
    "X=data.drop(['TAVG'],axis=1)\n",
    "y=data['TAVG']\n",
    "X=X.drop(['DATE'],axis=1)\n",
    "scaler = StandardScaler()\n",
    "X = scaler.fit_transform(X)\n",
    "X_train, X_test, y_train, y_test = train_test_split(X, y, test_size=0.3, random_state=42)"
   ],
   "id": "3bcac7bdca7977c1",
   "outputs": [],
   "execution_count": 47
  },
  {
   "metadata": {
    "ExecuteTime": {
     "end_time": "2024-08-29T10:02:57.836751Z",
     "start_time": "2024-08-29T10:02:57.824865Z"
    }
   },
   "cell_type": "code",
   "source": [
    "X_train = torch.tensor(X_train, dtype=torch.float32)\n",
    "X_test = torch.tensor(X_test, dtype=torch.float32)"
   ],
   "id": "bd7cb94120f2da12",
   "outputs": [],
   "execution_count": 48
  },
  {
   "metadata": {
    "ExecuteTime": {
     "end_time": "2024-08-29T10:02:57.917170Z",
     "start_time": "2024-08-29T10:02:57.908744Z"
    }
   },
   "cell_type": "code",
   "source": [
    "y_train = y_train.to_numpy()\n",
    "y_test = y_test.to_numpy()"
   ],
   "id": "27dc6ef8f3d7abbd",
   "outputs": [],
   "execution_count": 49
  },
  {
   "metadata": {
    "ExecuteTime": {
     "end_time": "2024-08-29T10:02:58.013294Z",
     "start_time": "2024-08-29T10:02:57.996612Z"
    }
   },
   "cell_type": "code",
   "source": [
    "y_train = torch.tensor(y_train, dtype=torch.float32).view(-1, 1)\n",
    "y_test = torch.tensor(y_test, dtype=torch.float32).view(-1, 1)"
   ],
   "id": "72909f74c9135b7e",
   "outputs": [],
   "execution_count": 50
  },
  {
   "metadata": {
    "ExecuteTime": {
     "end_time": "2024-08-29T10:02:58.103776Z",
     "start_time": "2024-08-29T10:02:58.099842Z"
    }
   },
   "cell_type": "code",
   "source": "",
   "id": "3b56e0e299fb6089",
   "outputs": [],
   "execution_count": null
  },
  {
   "metadata": {
    "ExecuteTime": {
     "end_time": "2024-08-29T10:02:58.240763Z",
     "start_time": "2024-08-29T10:02:58.216970Z"
    }
   },
   "cell_type": "code",
   "source": [
    "class weather(datum.Dataset):\n",
    "    def __init__(self, features, labels):\n",
    "        self.features = features\n",
    "        self.labels = labels\n",
    "\n",
    "    def __len__(self):\n",
    "        return len(self.features)\n",
    "\n",
    "    def __getitem__(self, idx):\n",
    "        return self.features[idx], self.labels[idx]\n",
    "train_dataset = weather(X_train, y_train)\n",
    "test_dataset = weather(X_test, y_test)\n",
    "train_loader = datum.DataLoader(train_dataset, batch_size=64, shuffle=True)\n",
    "test_loader = datum.DataLoader(test_dataset, batch_size=64, shuffle=False)"
   ],
   "id": "62e562877bab99d6",
   "outputs": [],
   "execution_count": 51
  },
  {
   "metadata": {
    "ExecuteTime": {
     "end_time": "2024-08-29T10:02:58.346063Z",
     "start_time": "2024-08-29T10:02:58.330981Z"
    }
   },
   "cell_type": "code",
   "source": [
    "import torch\n",
    "import torch.nn as nn\n",
    "import torch.optim as optim\n",
    "\n",
    "class Model(nn.Module):\n",
    "    def __init__(self, input_dim):\n",
    "        super(Model, self).__init__()\n",
    "        # Define layers\n",
    "        self.fc1 = nn.Linear(input_dim, 256)\n",
    "        self.fc2 = nn.Linear(256, 128)\n",
    "        self.fc3 = nn.Linear(128, 64)\n",
    "        self.fc4 = nn.Linear(64, 32)\n",
    "        self.fc5=# Final layer with no activation for regression output\n",
    "        \n",
    "        # Activation function\n",
    "        self.relu = nn.ReLU()\n",
    "        \n",
    "        # Dropout layer with 50% probability\n",
    "        self.dropout = nn.Dropout(p=0.5)\n",
    "\n",
    "    def forward(self, x):\n",
    "        # Forward pass with ReLU activations and Dropout\n",
    "        x = self.relu(self.fc1(x))\n",
    "        x = self.dropout(x)\n",
    "        x = self.relu(self.fc2(x))\n",
    "        x = self.dropout(x)\n",
    "        x = self.relu(self.fc3(x))\n",
    "        x = self.dropout(x)\n",
    "        x = self.fc4(x)  # No activation in the final layer for regression\n",
    "        return x"
   ],
   "id": "c46b32a81bc9c42e",
   "outputs": [],
   "execution_count": 52
  },
  {
   "metadata": {},
   "cell_type": "markdown",
   "source": "",
   "id": "6f63fcdf47c9f33a"
  },
  {
   "metadata": {
    "ExecuteTime": {
     "end_time": "2024-08-29T10:02:58.455664Z",
     "start_time": "2024-08-29T10:02:58.435232Z"
    }
   },
   "cell_type": "code",
   "source": [
    "input_dim = X_train.shape[1]\n",
    "model = Model(input_dim)\n",
    "\n",
    "# Use MSELoss for regression tasks\n",
    "criterion = nn.MSELoss()\n",
    "\n",
    "# Define optimizer\n",
    "optimizer = optim.Adam(model.parameters(), lr=0.001)"
   ],
   "id": "8aa2779d9c3408e1",
   "outputs": [],
   "execution_count": 53
  },
  {
   "metadata": {
    "ExecuteTime": {
     "end_time": "2024-08-29T10:02:59.108742Z",
     "start_time": "2024-08-29T10:02:58.539138Z"
    }
   },
   "cell_type": "code",
   "source": [
    "num_epochs = 10\n",
    "\n",
    "# Training loop\n",
    "for epoch in range(num_epochs):\n",
    "    model.train()\n",
    "    running_loss = 0.0\n",
    "    for inputs, labels in train_loader:\n",
    "        optimizer.zero_grad()\n",
    "        outputs = model(inputs)\n",
    "        loss = criterion(outputs, labels)\n",
    "        loss.backward()\n",
    "        optimizer.step()\n",
    "        running_loss += loss.item()\n",
    "    print(f\"Epoch [{epoch+1}/{num_epochs}], Loss: {running_loss/len(train_loader):.4f}\")"
   ],
   "id": "1b5f28fbfceb4331",
   "outputs": [
    {
     "name": "stdout",
     "output_type": "stream",
     "text": [
      "Epoch [1/10], Loss: 252.9440\n",
      "Epoch [2/10], Loss: 247.1804\n",
      "Epoch [3/10], Loss: 231.2081\n",
      "Epoch [4/10], Loss: 203.2013\n",
      "Epoch [5/10], Loss: 148.3006\n",
      "Epoch [6/10], Loss: 83.1906\n",
      "Epoch [7/10], Loss: 68.1281\n",
      "Epoch [8/10], Loss: 70.7547\n",
      "Epoch [9/10], Loss: 55.5308\n",
      "Epoch [10/10], Loss: 54.3724\n"
     ]
    }
   ],
   "execution_count": 54
  },
  {
   "metadata": {},
   "cell_type": "markdown",
   "source": "",
   "id": "41ef58272cc6b37f"
  },
  {
   "metadata": {
    "ExecuteTime": {
     "end_time": "2024-08-29T10:02:59.243164Z",
     "start_time": "2024-08-29T10:02:59.216850Z"
    }
   },
   "cell_type": "code",
   "source": [
    "model.eval()\n",
    "correct = 0\n",
    "total = 0\n",
    "threshold = 0.5  # Experiment with different thresholds\n",
    "with torch.no_grad():\n",
    "    for inputs, labels in test_loader:\n",
    "        outputs = model(inputs)\n",
    "        predicted = (outputs > threshold).float()\n",
    "        total += labels.size(0)\n",
    "        correct += (predicted == labels).sum().item()\n",
    "print(f'Accuracy: {100 * correct / total:.2f}%')"
   ],
   "id": "ab358719b96d103f",
   "outputs": [
    {
     "name": "stdout",
     "output_type": "stream",
     "text": [
      "Accuracy: 0.82%\n"
     ]
    }
   ],
   "execution_count": 55
  },
  {
   "metadata": {},
   "cell_type": "markdown",
   "source": "",
   "id": "b346ad0259a31fb5"
  },
  {
   "metadata": {
    "ExecuteTime": {
     "end_time": "2024-08-29T10:02:59.442897Z",
     "start_time": "2024-08-29T10:02:59.318224Z"
    }
   },
   "cell_type": "code",
   "source": [
    "testdf=pd.read_csv('test.csv')\n",
    "testdf.drop(['DATE'],axis=1,inplace=True)\n",
    "cty = {'A': {'TMAX': 0, 'TMIN': 0, 'TAVG': 0, 'PRCP': 0, 'SNWD': 0}, 'B': {'TMAX': 0, 'TMIN': 0, 'TAVG': 0, 'PRCP': 0, 'SNWD': 0}, 'C': {'TMAX': 0, 'TMIN': 0, 'TAVG': 0, 'PRCP': 0, 'SNWD': 0}}\n",
    "# cty = {'A': 0, 'B': 0, 'C': 0}\n",
    "# fld = {'TMAX': 0, 'TMIN': 0, 'TAVG': 0, 'PRCP': 0, 'SNWD': 0}\n",
    "# cty = {i: fld for i, x in cty.items()}\n",
    "# print(cty)\n",
    "for x, dat in enumerate(testdf.itertuples()):\n",
    "    for key, val in cty.items():\n",
    "        for ind, tvl in val.items():\n",
    "            rem = list(val.keys())\n",
    "            rem.remove(ind)\n",
    "            if pd.isna(getattr(dat, f'{ind}_{key}')):\n",
    "                v1, v2 = getattr(dat, f'{rem[0]}_{key}'), getattr(dat, f'{rem[1]}_{key}')\n",
    "                if not pd.isna(v1) and not pd.isna(v2) and ind != 'PRCP' and ind != 'SNWD':\n",
    "                    testdf.loc[x, f'{ind}_{key}'] = ((2 * v2) - v1) if ind in ['TMAX', 'TMIN'] else ((v1 + v2) / 2)\n",
    "                    cty[key][ind] += 1\n",
    "                else:\n",
    "                    rec = list(cty.keys())\n",
    "                    rec.remove(key)\n",
    "                    for ciy in rec:\n",
    "                        if not pd.isna(getattr(dat, f'{ind}_{ciy}')):\n",
    "                            testdf.loc[x, f'{ind}_{key}'] = float(getattr(dat, f'{ind}_{ciy}'))\n",
    "                            cty[key][ind] += 1\n",
    "                            break\n",
    "        #%%\n",
    "print(cty)\n"
   ],
   "id": "490c471632d0b14f",
   "outputs": [
    {
     "name": "stdout",
     "output_type": "stream",
     "text": [
      "{'A': {'TMAX': 61, 'TMIN': 145, 'TAVG': 0, 'PRCP': 133, 'SNWD': 0}, 'B': {'TMAX': 0, 'TMIN': 0, 'TAVG': 0, 'PRCP': 0, 'SNWD': 0}, 'C': {'TMAX': 52, 'TMIN': 108, 'TAVG': 6, 'PRCP': 45, 'SNWD': 0}}\n"
     ]
    }
   ],
   "execution_count": 56
  },
  {
   "metadata": {
    "ExecuteTime": {
     "end_time": "2024-08-29T10:02:59.544022Z",
     "start_time": "2024-08-29T10:02:59.525682Z"
    }
   },
   "cell_type": "code",
   "source": [
    "import torch\n",
    "import numpy as np\n",
    "\n",
    "def predict(user_input):\n",
    "    # Scale the input and convert it to a tensor\n",
    "    user_input = scaler.transform(user_input)  # Scale the input data\n",
    "    user_input = torch.tensor(user_input, dtype=torch.float32)  # Convert to PyTorch tensor\n",
    "    \n",
    "    # Set the model to evaluation mode\n",
    "    model.eval()\n",
    "    \n",
    "    # Disable gradient calculation for prediction\n",
    "    with torch.no_grad():\n",
    "        # Pass the input through the model\n",
    "        output = model(user_input)\n",
    "    \n",
    "    # If the output has multiple predictions, convert it to a list\n",
    "    return output.squeeze().tolist()  # Convert tensor to list for multiple predictions\n",
    "\n",
    "# Convert the test dataframe to a numpy array\n",
    "user_input = testdf.to_numpy()  # Convert DataFrame to NumPy array\n",
    "\n",
    "# Get predictions\n",
    "prediction = predict(user_input)\n",
    "\n",
    "# Print predictions\n",
    "print(prediction)\n"
   ],
   "id": "12f63e8783d92b5f",
   "outputs": [
    {
     "name": "stdout",
     "output_type": "stream",
     "text": [
      "[-2.469334602355957, 6.791647434234619, 10.338836669921875, 3.714327573776245, 10.048051834106445, -2.6468377113342285, 11.471733093261719, 3.5908071994781494, 4.403349876403809, 13.156148910522461, 4.283207893371582, 4.8258442878723145, 6.096195697784424, 16.200912475585938, 10.95086669921875, -3.169811248779297, 12.526456832885742, 18.830793380737305, -2.8743982315063477, -1.774031639099121, 16.021120071411133, -3.497422695159912, -2.498927354812622, -3.2556324005126953, 9.134977340698242, -4.635560035705566, -2.39042329788208, 18.176864624023438, 8.151437759399414, 2.646265983581543, 18.834169387817383, 13.821078300476074, 11.623830795288086, 14.181435585021973, -2.526798725128174, 10.298829078674316, 14.52481746673584, 15.71035099029541, -5.100314617156982, -4.984028339385986, 16.222999572753906, -4.394448757171631, -4.394420623779297, 13.057104110717773, 7.560232162475586, 19.934961318969727, 9.301198959350586, -5.249974727630615, -6.2671895027160645, -4.502742290496826, -3.3052353858947754, 17.121360778808594, 15.831863403320312, -3.462960720062256, -1.2969772815704346, 10.30948257446289, -2.1707534790039062, -4.45186710357666, 10.770181655883789, -5.516622066497803, 0.41987520456314087, 8.833395957946777, -2.3910813331604004, 14.15530014038086, 9.748466491699219, -2.7094149589538574, 13.989198684692383, -2.635082721710205, 1.9187836647033691, 6.442615985870361, 8.358806610107422, -4.11762809753418, 6.462405681610107, 10.458670616149902, 6.532144069671631, 11.264619827270508, 16.288658142089844, -1.3856678009033203, -1.6586997509002686, -4.072782039642334, 2.028257369995117, 6.150648593902588, 13.904959678649902, 4.292841911315918, 17.29247283935547, -0.9235979914665222, 2.5541529655456543, -2.571779251098633, 5.587815761566162, -4.140435218811035, 6.262863636016846, -3.9552974700927734, 14.972888946533203, 7.589415073394775, 6.290709018707275, -2.0548956394195557, -5.312281131744385, 14.219925880432129, 17.0827693939209, -0.20168903470039368, -2.945943832397461, -3.8308818340301514, 11.196756362915039, -3.4511590003967285, -4.169830799102783, 11.235164642333984, -2.8629302978515625, -3.723255157470703, 13.570050239562988, 11.29380989074707, -3.2596936225891113, 8.492926597595215, 4.100809574127197, 19.104246139526367, 15.302888870239258, -2.149371385574341, 10.68671989440918, -1.9474608898162842, 9.802087783813477, -5.763254642486572, -3.238983392715454, 7.14149284362793, -4.680515766143799, 17.705982208251953, 19.595401763916016, -1.2562189102172852, -6.508330821990967, -2.883758783340454, -3.9032435417175293, 22.442115783691406, 9.014863967895508, -3.904384136199951, 4.741168975830078, 3.8790738582611084, -3.875053882598877, 13.499820709228516, -1.3182473182678223, 11.461236953735352, 0.8763068318367004, 16.117473602294922, 7.836106777191162, 9.823015213012695, -2.3857011795043945, 15.829429626464844, -3.4209911823272705, 8.352492332458496, 11.530088424682617, 18.110090255737305, 17.22211265563965, 6.454953670501709, 11.102727890014648, 17.12653923034668, 18.530527114868164, -1.9698927402496338, 11.309062957763672, -6.487934589385986, 4.9765706062316895, 18.27399253845215, 14.872077941894531, -2.496889591217041, 17.93332862854004, -2.961027145385742, 9.318281173706055, -0.0893939882516861, 18.785118103027344, -2.501504898071289, 7.043657302856445, -0.44531506299972534, -2.0968594551086426, -4.422415733337402, -5.651329040527344, 8.422769546508789, -2.482400894165039, -2.60123348236084, 12.577579498291016, -6.351839542388916, -3.6134777069091797, -3.3889622688293457, -2.1401288509368896, -3.0337679386138916, 3.5907180309295654, -1.6546742916107178, -3.6181466579437256, -1.51609468460083, 2.5677413940429688, 5.308675289154053, 11.991256713867188, -3.571932315826416, 8.973503112792969, -3.789375066757202, 18.946401596069336, -1.8419265747070312, -3.419093132019043, 12.963451385498047, 5.036680698394775, -3.306737184524536, 1.8944048881530762, 15.696020126342773, 12.571308135986328, 12.141550064086914, 17.610387802124023, -5.620516777038574, 8.525290489196777]\n"
     ]
    },
    {
     "name": "stderr",
     "output_type": "stream",
     "text": [
      "C:\\Users\\ragul\\miniconda3\\Lib\\site-packages\\sklearn\\base.py:493: UserWarning: X does not have valid feature names, but StandardScaler was fitted with feature names\n",
      "  warnings.warn(\n"
     ]
    }
   ],
   "execution_count": 57
  },
  {
   "metadata": {
    "ExecuteTime": {
     "end_time": "2024-08-29T10:02:59.648197Z",
     "start_time": "2024-08-29T10:02:59.633642Z"
    }
   },
   "cell_type": "code",
   "source": "df = pd.DataFrame({'TAVG':prediction}, index=testdf.index)",
   "id": "4df9c34ebdc018c2",
   "outputs": [],
   "execution_count": 58
  },
  {
   "metadata": {
    "ExecuteTime": {
     "end_time": "2024-08-29T10:03:59.036820Z",
     "start_time": "2024-08-29T10:03:59.008762Z"
    }
   },
   "cell_type": "code",
   "source": "df.to_csv('ragulsub2.csv')",
   "id": "e0604a420d5b810d",
   "outputs": [],
   "execution_count": 60
  }
 ],
 "metadata": {
  "kernelspec": {
   "display_name": "Python 3",
   "language": "python",
   "name": "python3"
  },
  "language_info": {
   "codemirror_mode": {
    "name": "ipython",
    "version": 2
   },
   "file_extension": ".py",
   "mimetype": "text/x-python",
   "name": "python",
   "nbconvert_exporter": "python",
   "pygments_lexer": "ipython2",
   "version": "2.7.6"
  }
 },
 "nbformat": 4,
 "nbformat_minor": 5
}
