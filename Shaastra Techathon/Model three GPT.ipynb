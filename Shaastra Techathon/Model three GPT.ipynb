{
 "cells": [
  {
   "metadata": {
    "ExecuteTime": {
     "end_time": "2024-08-29T10:03:26.990402Z",
     "start_time": "2024-08-29T10:03:26.715859Z"
    }
   },
   "cell_type": "code",
   "source": [
    "import pandas as pd\n",
    "from sklearn.ensemble import RandomForestRegressor\n",
    "from sklearn.impute import KNNImputer\n",
    "from sklearn.metrics import mean_absolute_error, mean_squared_error, r2_score\n",
    "\n",
    "# Load the training and testing datasets\n",
    "train_df = pd.read_csv('train.csv')\n",
    "test_df = pd.read_csv('test.csv')\n",
    "\n",
    "train_df.drop(columns='DATE', inplace=True)\n",
    "test_df.drop(columns='DATE', inplace=True)\n",
    "train_df.drop(columns='Unnamed: 0', inplace=True)\n",
    "test_df.drop(columns='INDEX', inplace=True)\n",
    "\n",
    "# Apply KNN Imputation to handle missing values in the training data\n",
    "knn_imputer = KNNImputer(n_neighbors=5)\n",
    "train_df_imputed = pd.DataFrame(knn_imputer.fit_transform(train_df), columns=train_df.columns)\n",
    "\n",
    "# Define features and target for the training data\n",
    "features = [\n",
    "    'LATITUDE_A', 'LONGITUDE_A', 'ELEVATION_A', 'PRCP_A', 'SNWD_A', 'TMAX_A', 'TMIN_A',\n",
    "    'LATITUDE_B', 'LONGITUDE_B', 'ELEVATION_B', 'PRCP_B', 'SNWD_B', 'TMAX_B', 'TMIN_B',\n",
    "    'LATITUDE_C', 'LONGITUDE_C', 'ELEVATION_C', 'PRCP_C', 'SNWD_C', 'TMAX_C', 'TMIN_C',\n",
    "    'LATITUDE', 'LONGITUDE'\n",
    "]\n",
    "\n",
    "target = 'TAVG'  # Assuming this is the column name for City D's average temperature\n",
    "\n",
    "# Ensure the feature names match exactly in both datasets\n",
    "X_train = train_df_imputed[features]\n",
    "y_train = train_df_imputed[target]\n",
    "\n",
    "# Train the RandomForestRegressor model\n",
    "model = RandomForestRegressor(n_estimators=100, random_state=42)\n",
    "model.fit(X_train, y_train)\n",
    "X_test = test_df[features]\n",
    "# Make predictions on the testing data\n",
    "y_pred = model.predict(X_test)\n",
    "\n",
    "# If the true target values for the test set are available, evaluate the model\n",
    "# Uncomment the following lines if you have the true values for the test set\n",
    "# y_test = test_df_imputed[target]\n",
    "# mae = mean_absolute_error(y_test, y_pred)\n",
    "# mse = mean_squared_error(y_test, y_pred)\n",
    "# rmse = mse ** 0.5\n",
    "# r2 = r2_score(y_test, y_pred)\n",
    "\n",
    "# print(f\"Mean Absolute Error: {mae}\")\n",
    "# print(f\"Mean Squared Error: {mse}\")\n",
    "# print(f\"Root Mean Squared Error: {rmse}\")\n",
    "# print(f\"R^2 Score: {r2}\")\n",
    "\n",
    "# Print or save predictions\n",
    "print(y_pred)\n",
    "\n",
    "# Optionally, save predictions to a CSV file\n",
    "# predictions_df = pd.DataFrame({'Predicted_TAVG_D': y_pred})\n",
    "# predictions_df.to_csv('predictions.csv', index=False)\n"
   ],
   "id": "fd8a4e9c81d6f888",
   "outputs": [
    {
     "name": "stdout",
     "output_type": "stream",
     "text": [
      "[  0.396  11.403  11.156   9.209  18.671  -0.561  10.445   7.976  11.228\n",
      "  21.247   5.295   6.147  10.94   25.154  19.765  -1.703  21.025  26.584\n",
      "  -0.982   2.303  25.173  -3.47    2.854   3.093  19.421   1.695   4.508\n",
      "  24.38   10.7     5.492  22.017  11.203  20.85   24.125   2.136  19.501\n",
      "  12.311  22.021  -5.435  -0.283  11.874  -7.851  -7.758  11.238  14.828\n",
      "  25.592  19.265  -6.057 -16.344  -3.368  -0.255  11.726  22.856  -2.352\n",
      "   4.816  16.678   2.421   1.284  21.471 -13.299   4.674  15.869   0.955\n",
      "  22.023  14.122  -1.027  10.993   2.434   8.004  11.639  15.316   1.699\n",
      "   9.573  19.657  11.6    21.041  11.95    3.462   4.919  -5.664   7.787\n",
      "  10.368  19.77   10.538  10.725   0.745   9.599   3.039   8.529  -7.939\n",
      "  10.379  -3.817  12.367  14.926  11.987   2.721 -12.266  23.377  12.244\n",
      "   5.448  -1.278  -5.387  19.201  -4.061  -4.437  11.096   0.076   1.337\n",
      "  11.069  19.895  -2.002  16.963  10.583  24.034  23.403   2.223  18.466\n",
      "   1.688  10.423  -6.751  -1.427  15.355 -11.744  24.271  25.833   3.519\n",
      "  -6.712   3.974  -5.497  26.726  15.351  -2.647  11.489  10.413  -2.975\n",
      "  22.108   3.745  19.222   6.154  10.485  10.506  18.489   4.083  23.051\n",
      "  -4.332  11.47   20.302  24.357  23.629   9.817  19.145  10.9    24.662\n",
      "   1.787  11.579  -6.349  10.44   27.627   9.821  -0.499  12.232  -4.136\n",
      "  16.702   5.275  23.796   2.262  11.866   9.167   0.723  -9.392  -5.75\n",
      "  16.966  -0.697  -0.935   9.822 -17.23    3.107  -5.018   2.293  -3.03\n",
      "  10.141   3.796  -8.105   4.437   7.502  14.295  10.998  -2.21   15.376\n",
      "  -3.478  27.607   4.87   -4.291  19.051   9.932  -3.821   4.516  23.641\n",
      "  20.17   16.686  23.42   -6.319  10.04 ]\n"
     ]
    }
   ],
   "execution_count": 33
  },
  {
   "metadata": {
    "ExecuteTime": {
     "end_time": "2024-08-29T10:03:38.488609Z",
     "start_time": "2024-08-29T10:03:38.485252Z"
    }
   },
   "cell_type": "code",
   "source": "df = pd.DataFrame({'TAVG':y_pred})",
   "id": "4cbd427200e7ece1",
   "outputs": [],
   "execution_count": 34
  },
  {
   "metadata": {
    "ExecuteTime": {
     "end_time": "2024-08-29T10:03:40.114682Z",
     "start_time": "2024-08-29T10:03:40.108857Z"
    }
   },
   "cell_type": "code",
   "source": "df.head()",
   "id": "76e6eedd32d8d6b6",
   "outputs": [
    {
     "data": {
      "text/plain": [
       "     TAVG\n",
       "0   0.396\n",
       "1  11.403\n",
       "2  11.156\n",
       "3   9.209\n",
       "4  18.671"
      ],
      "text/html": [
       "<div>\n",
       "<style scoped>\n",
       "    .dataframe tbody tr th:only-of-type {\n",
       "        vertical-align: middle;\n",
       "    }\n",
       "\n",
       "    .dataframe tbody tr th {\n",
       "        vertical-align: top;\n",
       "    }\n",
       "\n",
       "    .dataframe thead th {\n",
       "        text-align: right;\n",
       "    }\n",
       "</style>\n",
       "<table border=\"1\" class=\"dataframe\">\n",
       "  <thead>\n",
       "    <tr style=\"text-align: right;\">\n",
       "      <th></th>\n",
       "      <th>TAVG</th>\n",
       "    </tr>\n",
       "  </thead>\n",
       "  <tbody>\n",
       "    <tr>\n",
       "      <th>0</th>\n",
       "      <td>0.396</td>\n",
       "    </tr>\n",
       "    <tr>\n",
       "      <th>1</th>\n",
       "      <td>11.403</td>\n",
       "    </tr>\n",
       "    <tr>\n",
       "      <th>2</th>\n",
       "      <td>11.156</td>\n",
       "    </tr>\n",
       "    <tr>\n",
       "      <th>3</th>\n",
       "      <td>9.209</td>\n",
       "    </tr>\n",
       "    <tr>\n",
       "      <th>4</th>\n",
       "      <td>18.671</td>\n",
       "    </tr>\n",
       "  </tbody>\n",
       "</table>\n",
       "</div>"
      ]
     },
     "execution_count": 35,
     "metadata": {},
     "output_type": "execute_result"
    }
   ],
   "execution_count": 35
  },
  {
   "metadata": {
    "ExecuteTime": {
     "end_time": "2024-08-29T10:03:43.417374Z",
     "start_time": "2024-08-29T10:03:43.411793Z"
    }
   },
   "cell_type": "code",
   "source": "df.to_csv('Braves submission 2.csv')",
   "id": "2c2ad0f3a685ecb6",
   "outputs": [],
   "execution_count": 36
  },
  {
   "metadata": {
    "ExecuteTime": {
     "end_time": "2024-08-29T10:03:45.550289Z",
     "start_time": "2024-08-29T10:03:45.516877Z"
    }
   },
   "cell_type": "code",
   "source": [
    "import joblib\n",
    "\n",
    "# Save the model\n",
    "joblib.dump(model, 'temperature_predictor_model.pkl')\n"
   ],
   "id": "99d6547109e95c6c",
   "outputs": [
    {
     "data": {
      "text/plain": [
       "['temperature_predictor_model.pkl']"
      ]
     },
     "execution_count": 37,
     "metadata": {},
     "output_type": "execute_result"
    }
   ],
   "execution_count": 37
  },
  {
   "metadata": {},
   "cell_type": "code",
   "outputs": [],
   "execution_count": null,
   "source": "",
   "id": "ff36aa18350195d2"
  }
 ],
 "metadata": {
  "kernelspec": {
   "display_name": "Python 3",
   "language": "python",
   "name": "python3"
  },
  "language_info": {
   "codemirror_mode": {
    "name": "ipython",
    "version": 2
   },
   "file_extension": ".py",
   "mimetype": "text/x-python",
   "name": "python",
   "nbconvert_exporter": "python",
   "pygments_lexer": "ipython2",
   "version": "2.7.6"
  }
 },
 "nbformat": 4,
 "nbformat_minor": 5
}
